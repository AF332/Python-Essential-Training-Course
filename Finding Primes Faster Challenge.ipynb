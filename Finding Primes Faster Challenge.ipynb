{
 "cells": [
  {
   "cell_type": "code",
   "execution_count": null,
   "metadata": {},
   "outputs": [],
   "source": [
    "def allPrimesUpTo(num):\n",
    "    primesFound = [2]\n",
    "    for number in range(3, num):\n",
    "        sqrtNumber = number ** 0.5\n",
    "        for factor in primesFound:\n",
    "            if number % factor == 0:\n",
    "                # Not prime\n",
    "                break\n",
    "            if factor > sqrtNumber:\n",
    "                # It is prime\n",
    "                primesFound.append(number)\n",
    "                break\n",
    "    return primesFound"
   ]
  }
 ],
 "metadata": {
  "language_info": {
   "name": "python"
  }
 },
 "nbformat": 4,
 "nbformat_minor": 2
}
