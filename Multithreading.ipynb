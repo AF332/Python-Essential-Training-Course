{
 "cells": [
  {
   "cell_type": "code",
   "execution_count": 1,
   "metadata": {},
   "outputs": [],
   "source": [
    "import threading\n",
    "import time"
   ]
  },
  {
   "cell_type": "markdown",
   "metadata": {},
   "source": [
    "# Threads"
   ]
  },
  {
   "cell_type": "code",
   "execution_count": 3,
   "metadata": {},
   "outputs": [
    {
     "data": {
      "text/plain": [
       "[0, 1, 4, 9, 16]"
      ]
     },
     "execution_count": 3,
     "metadata": {},
     "output_type": "execute_result"
    }
   ],
   "source": [
    "def longSquare(num):\n",
    "    time.sleep(1)\n",
    "    return num ** 2\n",
    "\n",
    "[longSquare(n) for n in range(0, 5)]"
   ]
  },
  {
   "cell_type": "code",
   "execution_count": 4,
   "metadata": {},
   "outputs": [],
   "source": [
    "t1 = threading.Thread(target=longSquare, args=(1,))\n",
    "t2 = threading.Thread(target=longSquare, args=(2,))\n",
    "\n",
    "t1.start()\n",
    "t2.start()\n",
    "\n",
    "t1.join()\n",
    "t2.join()"
   ]
  },
  {
   "cell_type": "code",
   "execution_count": 6,
   "metadata": {},
   "outputs": [
    {
     "name": "stdout",
     "output_type": "stream",
     "text": [
      "{1: 1, 2: 4}\n"
     ]
    }
   ],
   "source": [
    "def longSquare(num, results):\n",
    "    time.sleep(1)\n",
    "    results[num] = num ** 2\n",
    "\n",
    "results = {}\n",
    "\n",
    "t1 = threading.Thread(target=longSquare, args=(1, results))\n",
    "t2 = threading.Thread(target=longSquare, args=(2, results))\n",
    "\n",
    "t1.start()\n",
    "t2.start()\n",
    "\n",
    "t1.join()\n",
    "t2.join()\n",
    "\n",
    "print(results)"
   ]
  },
  {
   "cell_type": "code",
   "execution_count": 8,
   "metadata": {},
   "outputs": [
    {
     "name": "stdout",
     "output_type": "stream",
     "text": [
      "{1: 1, 0: 0, 4: 16, 5: 25, 2: 4, 3: 9, 9: 81, 7: 49, 6: 36, 8: 64, 12: 144, 11: 121, 10: 100, 16: 256, 14: 196, 15: 225, 13: 169, 20: 400, 19: 361, 17: 289, 18: 324, 22: 484, 24: 576, 23: 529, 21: 441, 29: 841, 28: 784, 27: 729, 26: 676, 25: 625, 34: 1156, 32: 1024, 33: 1089, 30: 900, 31: 961, 38: 1444, 37: 1369, 35: 1225, 36: 1296, 44: 1936, 43: 1849, 42: 1764, 41: 1681, 40: 1600, 39: 1521, 46: 2116, 47: 2209, 45: 2025, 50: 2500, 48: 2304, 49: 2401, 54: 2916, 53: 2809, 52: 2704, 51: 2601, 59: 3481, 58: 3364, 57: 3249, 55: 3025, 56: 3136, 60: 3600, 61: 3721, 62: 3844, 63: 3969, 65: 4225, 64: 4096, 67: 4489, 69: 4761, 70: 4900, 66: 4356, 68: 4624, 72: 5184, 73: 5329, 71: 5041, 74: 5476, 78: 6084, 79: 6241, 77: 5929, 75: 5625, 76: 5776, 80: 6400, 85: 7225, 84: 7056, 82: 6724, 81: 6561, 83: 6889, 90: 8100, 89: 7921, 87: 7569, 88: 7744, 86: 7396, 94: 8836, 91: 8281, 93: 8649, 92: 8464, 98: 9604, 96: 9216, 95: 9025, 97: 9409, 99: 9801}\n"
     ]
    }
   ],
   "source": [
    "def longSquare(num, results):\n",
    "    time.sleep(1)\n",
    "    results[num] = num ** 2\n",
    "\n",
    "results = {}\n",
    "\n",
    "threads = [threading.Thread(target=longSquare, args=(n, results)) for n in range(0, 100)]\n",
    "[t.start() for t in threads]\n",
    "[t.join() for t in threads]\n",
    "\n",
    "print(results)"
   ]
  }
 ],
 "metadata": {
  "kernelspec": {
   "display_name": "base",
   "language": "python",
   "name": "python3"
  },
  "language_info": {
   "codemirror_mode": {
    "name": "ipython",
    "version": 3
   },
   "file_extension": ".py",
   "mimetype": "text/x-python",
   "name": "python",
   "nbconvert_exporter": "python",
   "pygments_lexer": "ipython3",
   "version": "3.11.7"
  }
 },
 "nbformat": 4,
 "nbformat_minor": 2
}
