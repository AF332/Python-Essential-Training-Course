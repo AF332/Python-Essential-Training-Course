{
 "cells": [
  {
   "cell_type": "markdown",
   "metadata": {},
   "source": [
    "# Encoding ASCII art Challenge"
   ]
  },
  {
   "cell_type": "code",
   "execution_count": null,
   "metadata": {},
   "outputs": [],
   "source": [
    "def encodeString(stringVal):\n",
    "    # Your code goes here.\n",
    "    encodedList = []\n",
    "    prevChar = stringVal[0]\n",
    "    count = 0\n",
    "    for char in stringVal:\n",
    "        if prevChar != char:\n",
    "            encodedList.append((prevChar, count))\n",
    "            count = 0\n",
    "        prevChar = char\n",
    "        count = count + 1\n",
    "\n",
    "    encodedList.append((prevChar, count))\n",
    "    return encodedList\n",
    "\n",
    "def decodeString(encodedList):\n",
    "    # Your code goes here.\n",
    "    decodedStr = ''\n",
    "    for item in encodedList:\n",
    "        decodedStr = decodedStr + item[0] * item[1]\n",
    "    return decodedStr"
   ]
  }
 ],
 "metadata": {
  "kernelspec": {
   "display_name": "base",
   "language": "python",
   "name": "python3"
  },
  "language_info": {
   "name": "python",
   "version": "3.11.7"
  }
 },
 "nbformat": 4,
 "nbformat_minor": 2
}
