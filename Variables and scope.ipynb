{
 "cells": [
  {
   "cell_type": "markdown",
   "metadata": {},
   "source": [
    "# Function Scope"
   ]
  },
  {
   "cell_type": "code",
   "execution_count": 1,
   "metadata": {},
   "outputs": [
    {
     "name": "stdout",
     "output_type": "stream",
     "text": [
      "(1, 2)\n",
      "{'operations': 'sum'}\n"
     ]
    }
   ],
   "source": [
    "def performOperations(*args, **kwargs):\n",
    "    print(args)\n",
    "    print(kwargs)\n",
    "\n",
    "performOperations(1, 2, operations='sum')"
   ]
  },
  {
   "cell_type": "markdown",
   "metadata": {},
   "source": [
    "## locals()"
   ]
  },
  {
   "cell_type": "code",
   "execution_count": 3,
   "metadata": {},
   "outputs": [
    {
     "name": "stdout",
     "output_type": "stream",
     "text": [
      "{'num1': 1, 'num2': 2, 'operations': 'multiply'}\n"
     ]
    }
   ],
   "source": [
    "def performOperations(num1, num2, operations='sum'):\n",
    "    print(locals())\n",
    "\n",
    "performOperations(1, 2, operations='multiply')"
   ]
  },
  {
   "cell_type": "markdown",
   "metadata": {},
   "source": [
    "## globals()"
   ]
  },
  {
   "cell_type": "code",
   "execution_count": 4,
   "metadata": {},
   "outputs": [
    {
     "data": {
      "text/plain": [
       "{'__name__': '__main__',\n",
       " '__doc__': 'Automatically created module for IPython interactive environment',\n",
       " '__package__': None,\n",
       " '__loader__': None,\n",
       " '__spec__': None,\n",
       " '__builtin__': <module 'builtins' (built-in)>,\n",
       " '__builtins__': <module 'builtins' (built-in)>,\n",
       " '_ih': ['',\n",
       "  \"def performOperations(*args, **kwargs):\\n    print(args)\\n    print(kwargs)\\n\\nperformOperations(1, 2, operations='sum')\",\n",
       "  \"def performOperations(num1, num2, operations='sum')\\n    print(locals())\\n\\nperformOperations(1, 2, operations='multiply')\",\n",
       "  \"def performOperations(num1, num2, operations='sum'):\\n    print(locals())\\n\\nperformOperations(1, 2, operations='multiply')\",\n",
       "  'globals()'],\n",
       " '_oh': {},\n",
       " '_dh': [WindowsPath('e:/Coding/Python Essential Training/My Work')],\n",
       " 'In': ['',\n",
       "  \"def performOperations(*args, **kwargs):\\n    print(args)\\n    print(kwargs)\\n\\nperformOperations(1, 2, operations='sum')\",\n",
       "  \"def performOperations(num1, num2, operations='sum')\\n    print(locals())\\n\\nperformOperations(1, 2, operations='multiply')\",\n",
       "  \"def performOperations(num1, num2, operations='sum'):\\n    print(locals())\\n\\nperformOperations(1, 2, operations='multiply')\",\n",
       "  'globals()'],\n",
       " 'Out': {},\n",
       " 'get_ipython': <bound method InteractiveShell.get_ipython of <ipykernel.zmqshell.ZMQInteractiveShell object at 0x000002555B4D5150>>,\n",
       " 'exit': <IPython.core.autocall.ZMQExitAutocall at 0x2555b4e1b50>,\n",
       " 'quit': <IPython.core.autocall.ZMQExitAutocall at 0x2555b4e1b50>,\n",
       " 'open': <function io.open(file, mode='r', buffering=-1, encoding=None, errors=None, newline=None, closefd=True, opener=None)>,\n",
       " '_': '',\n",
       " '__': '',\n",
       " '___': '',\n",
       " '__vsc_ipynb_file__': 'Untitled-1.ipynb',\n",
       " '_i': \"def performOperations(num1, num2, operations='sum'):\\n    print(locals())\\n\\nperformOperations(1, 2, operations='multiply')\",\n",
       " '_ii': \"def performOperations(num1, num2, operations='sum')\\n    print(locals())\\n\\nperformOperations(1, 2, operations='multiply')\",\n",
       " '_iii': \"def performOperations(*args, **kwargs):\\n    print(args)\\n    print(kwargs)\\n\\nperformOperations(1, 2, operations='sum')\",\n",
       " '_i1': \"def performOperations(*args, **kwargs):\\n    print(args)\\n    print(kwargs)\\n\\nperformOperations(1, 2, operations='sum')\",\n",
       " 'performOperations': <function __main__.performOperations(num1, num2, operations='sum')>,\n",
       " '_i2': \"def performOperations(num1, num2, operations='sum')\\n    print(locals())\\n\\nperformOperations(1, 2, operations='multiply')\",\n",
       " '_i3': \"def performOperations(num1, num2, operations='sum'):\\n    print(locals())\\n\\nperformOperations(1, 2, operations='multiply')\",\n",
       " '_i4': 'globals()'}"
      ]
     },
     "execution_count": 4,
     "metadata": {},
     "output_type": "execute_result"
    }
   ],
   "source": [
    "globals()"
   ]
  },
  {
   "cell_type": "markdown",
   "metadata": {},
   "source": [
    "## Global and Local scope"
   ]
  },
  {
   "cell_type": "code",
   "execution_count": 6,
   "metadata": {},
   "outputs": [
    {
     "name": "stdout",
     "output_type": "stream",
     "text": [
      "{'varA': 1, 'varB': 2}\n",
      "Some global data\n",
      "{'varC': 3, 'varB': 4}\n",
      "Some global data\n"
     ]
    }
   ],
   "source": [
    "message = 'Some global data'\n",
    "\n",
    "def function1(varA, varB):\n",
    "    print(locals())\n",
    "    print(message)\n",
    "\n",
    "def function2(varC, varB):\n",
    "    print(locals())\n",
    "    print(message)\n",
    "\n",
    "function1(1, 2)\n",
    "function2(3, 4)"
   ]
  },
  {
   "cell_type": "code",
   "execution_count": 10,
   "metadata": {},
   "outputs": [
    {
     "name": "stdout",
     "output_type": "stream",
     "text": [
      "{'varA': 1, 'varB': 2}\n",
      "Some global data\n"
     ]
    },
    {
     "ename": "NameError",
     "evalue": "name 'varA' is not defined",
     "output_type": "error",
     "traceback": [
      "\u001b[1;31m---------------------------------------------------------------------------\u001b[0m",
      "\u001b[1;31mNameError\u001b[0m                                 Traceback (most recent call last)",
      "Cell \u001b[1;32mIn[10], line 13\u001b[0m\n\u001b[0;32m     10\u001b[0m     \u001b[38;5;28mprint\u001b[39m(message)\n\u001b[0;32m     12\u001b[0m function1(\u001b[38;5;241m1\u001b[39m, \u001b[38;5;241m2\u001b[39m)\n\u001b[1;32m---> 13\u001b[0m function2(\u001b[38;5;241m3\u001b[39m, \u001b[38;5;241m4\u001b[39m)\n",
      "Cell \u001b[1;32mIn[10], line 8\u001b[0m, in \u001b[0;36mfunction2\u001b[1;34m(varC, varB)\u001b[0m\n\u001b[0;32m      7\u001b[0m \u001b[38;5;28;01mdef\u001b[39;00m \u001b[38;5;21mfunction2\u001b[39m(varC, varB):\n\u001b[1;32m----> 8\u001b[0m     \u001b[38;5;28mprint\u001b[39m(varA)\n\u001b[0;32m      9\u001b[0m     \u001b[38;5;28mprint\u001b[39m(\u001b[38;5;28mlocals\u001b[39m())\n\u001b[0;32m     10\u001b[0m     \u001b[38;5;28mprint\u001b[39m(message)\n",
      "\u001b[1;31mNameError\u001b[0m: name 'varA' is not defined"
     ]
    }
   ],
   "source": [
    "message = 'Some global data'\n",
    "\n",
    "def function1(varA, varB):\n",
    "    print(locals())\n",
    "    print(message)\n",
    "\n",
    "def function2(varC, varB):\n",
    "    print(varA)\n",
    "    print(locals())\n",
    "    print(message)\n",
    "\n",
    "function1(1, 2)\n",
    "function2(3, 4)"
   ]
  },
  {
   "cell_type": "code",
   "execution_count": 12,
   "metadata": {},
   "outputs": [
    {
     "name": "stdout",
     "output_type": "stream",
     "text": [
      "1\n",
      "{'varA': 1, 'varB': 2}\n",
      "Some global data\n",
      "2\n",
      "{'varC': 3, 'varB': 4}\n",
      "Some global data\n"
     ]
    }
   ],
   "source": [
    "message = 'Some global data'\n",
    "varA = 2\n",
    "\n",
    "def function1(varA, varB):\n",
    "    print(varA)\n",
    "    print(locals())\n",
    "    print(message)\n",
    "\n",
    "def function2(varC, varB):\n",
    "    print(varA)\n",
    "    print(locals())\n",
    "    print(message)\n",
    "\n",
    "function1(1, 2)\n",
    "function2(3, 4)"
   ]
  },
  {
   "cell_type": "code",
   "execution_count": 13,
   "metadata": {},
   "outputs": [
    {
     "name": "stdout",
     "output_type": "stream",
     "text": [
      "1\n",
      "{'varA': 1, 'varB': 2, 'message': 'Some local data'}\n",
      "Some local data\n",
      "2\n",
      "{'varC': 3, 'varB': 4}\n",
      "Some global data\n"
     ]
    }
   ],
   "source": [
    "message = 'Some global data'\n",
    "varA = 2\n",
    "\n",
    "def function1(varA, varB):\n",
    "    message = 'Some local data'\n",
    "    print(varA)\n",
    "    print(locals())\n",
    "    print(message)\n",
    "\n",
    "def function2(varC, varB):\n",
    "    print(varA)\n",
    "    print(locals())\n",
    "    print(message)\n",
    "\n",
    "function1(1, 2)\n",
    "function2(3, 4)"
   ]
  },
  {
   "cell_type": "code",
   "execution_count": 15,
   "metadata": {},
   "outputs": [
    {
     "name": "stdout",
     "output_type": "stream",
     "text": [
      "1\n",
      "inner_function local scope: {'varA': 123, 'varB': 456}\n"
     ]
    }
   ],
   "source": [
    "def function1(varA, varB):\n",
    "    message = 'Some local data'\n",
    "    print(varA)\n",
    "    def inner_function(varA, varB):\n",
    "        print(f'inner_function local scope: {locals()}')\n",
    "\n",
    "    inner_function(123, 456)\n",
    "\n",
    "function1(1, 2)\n"
   ]
  },
  {
   "cell_type": "code",
   "execution_count": 17,
   "metadata": {},
   "outputs": [
    {
     "name": "stdout",
     "output_type": "stream",
     "text": [
      "1\n",
      "{'varA': 1, 'varB': 2, 'message': 'Some local data', 'inner_function': <function function1.<locals>.inner_function at 0x000002555C482C00>}\n",
      "inner_function local scope: {'varA': 123, 'varB': 456}\n"
     ]
    }
   ],
   "source": [
    "def function1(varA, varB):\n",
    "    message = 'Some local data'\n",
    "    print(varA)\n",
    "    def inner_function(varA, varB):\n",
    "        print(f'inner_function local scope: {locals()}')\n",
    "\n",
    "    print(locals())\n",
    "    inner_function(123, 456)\n",
    "\n",
    "function1(1, 2)\n"
   ]
  }
 ],
 "metadata": {
  "kernelspec": {
   "display_name": "base",
   "language": "python",
   "name": "python3"
  },
  "language_info": {
   "codemirror_mode": {
    "name": "ipython",
    "version": 3
   },
   "file_extension": ".py",
   "mimetype": "text/x-python",
   "name": "python",
   "nbconvert_exporter": "python",
   "pygments_lexer": "ipython3",
   "version": "3.11.7"
  }
 },
 "nbformat": 4,
 "nbformat_minor": 2
}
